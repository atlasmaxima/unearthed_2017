{
 "cells": [
  {
   "cell_type": "markdown",
   "metadata": {},
   "source": [
    "# Demonstration of Map-M8 selective block loading\n",
    "\n",
    "\n",
    "The industry standard for terrain formats are excel spreadsheets, CSV files and DXF files (A file format used for computer aided drawing). *Insert joke about how are a house and rocks have been different for a while*\n",
    "There is a lot of tooling built around the current file types - but they're no good for quick visualisation\n",
    "on differing scales or of very large datasets. Sharing data means sending large files, and merging data is a nightmare, especially when they're overlapping.\n",
    "\n",
    "In this demo, we combine three datasets of varying resolution into a single dataset, and then query it for a specific area. For any given area, the area of best resolution is used.\n",
    "\n",
    "\n",
    "## Setting up for 3D visualisation"
   ]
  },
  {
   "cell_type": "code",
   "execution_count": 36,
   "metadata": {
    "collapsed": true
   },
   "outputs": [],
   "source": [
    "import plotly.plotly as py\n",
    "import plotly.figure_factory as FF\n",
    "from plotly.graph_objs import graph_objs\n",
    "import plotly.graph_objs as go\n",
    "\n",
    "import numpy as np\n",
    "from scipy.spatial import Delaunay\n",
    "\n",
    "import csv\n",
    "import mesh\n",
    "\n",
    "def render_pretty_map_portion(x_origin=-33,y_origin=149.5):\n",
    "    # Merge datasets\n",
    "    d,t = mesh.read_tiered_data(['data/Output_Top_Illawarra.csv','data/Output_IllawarraCM_SR.csv','data/Output_KATSF.csv'])\n",
    "\n",
    "    #x_origin = -33\n",
    "    #y_origin = 149.5\n",
    "\n",
    "    x_extent = 1\n",
    "    y_extent = 0.8\n",
    "\n",
    "    #x,y,z = mesh.grid(d,t,(-33,-32),(149.5,150.3), num_xsteps=64,num_ysteps=64)\n",
    "    x,y,z = mesh.grid(d,t,(x_origin,x_origin+x_extent),(y_origin,y_origin+y_extent), num_xsteps=64,num_ysteps=64)\n",
    "    x,y = np.meshgrid(x,y)\n",
    "    x = x.flatten()\n",
    "    y = y.flatten()\n",
    "    z = z.flatten()\n",
    "\n",
    "    layout = go.Layout(\n",
    "                        scene = dict(\n",
    "                        xaxis = dict(showbackground=False, zeroline=False, showline=False, \n",
    "                                     showgrid=False, visible=False),\n",
    "                        yaxis = dict(showbackground=False, zeroline=False, showline=False, \n",
    "                                     showgrid=False, visible=False),\n",
    "                        zaxis = dict(showbackground=False, zeroline=False, showline=False, \n",
    "                                     showgrid=False)\n",
    "                        )\n",
    "                      )\n",
    "\n",
    "\n",
    "    points2D = np.vstack([x,y]).T\n",
    "    tri = Delaunay(points2D)\n",
    "    simplices = tri.simplices\n",
    "\n",
    "    fig1 = FF.create_trisurf(x=x, y=y, z=z, simplices=simplices, title=\"Illawara_short\", \n",
    "                             aspectratio=dict(x=1, y=1, z=1))\n",
    "    #print(dir(fig1))\n",
    "    #print(fig1.data[1])\n",
    "    fig1.data[0]['opacity']=0.8\n",
    "    fig1.data[1]['mode']=\"none\"\n",
    "    #fig1.data[1]['mode']=\"points\"\n",
    "    fig1.layout=layout\n",
    "    return py.iplot(fig1, filename=\"\")\n",
    "    "
   ]
  },
  {
   "cell_type": "markdown",
   "metadata": {},
   "source": [
    "# Query of specific areas\n",
    "Area covered: Lat: -33.0 to -32.0, Long: 149.5 to 150.3"
   ]
  },
  {
   "cell_type": "code",
   "execution_count": 37,
   "metadata": {},
   "outputs": [
    {
     "data": {
      "text/html": [
       "<iframe id=\"igraph\" scrolling=\"no\" style=\"border:none;\" seamless=\"seamless\" src=\"https://plot.ly/~mdchia/1.embed\" height=\"525px\" width=\"100%\"></iframe>"
      ],
      "text/plain": [
       "<plotly.tools.PlotlyDisplay object>"
      ]
     },
     "execution_count": 37,
     "metadata": {},
     "output_type": "execute_result"
    }
   ],
   "source": [
    "#render_pretty_map_portion(-33, 149.5)\n",
    "render_pretty_map_portion()"
   ]
  },
  {
   "cell_type": "markdown",
   "metadata": {},
   "source": [
    "## Shifting views\n",
    "Area covered: Lat: -34 to -33, Long: 150 to 150.8"
   ]
  },
  {
   "cell_type": "code",
   "execution_count": 4,
   "metadata": {},
   "outputs": [
    {
     "data": {
      "text/html": [
       "<iframe id=\"igraph\" scrolling=\"no\" style=\"border:none;\" seamless=\"seamless\" src=\"https://plot.ly/~mdchia/1.embed\" height=\"525px\" width=\"100%\"></iframe>"
      ],
      "text/plain": [
       "<plotly.tools.PlotlyDisplay object>"
      ]
     },
     "execution_count": 4,
     "metadata": {},
     "output_type": "execute_result"
    }
   ],
   "source": [
    "render_pretty_map_portion(-34, 150)"
   ]
  },
  {
   "cell_type": "markdown",
   "metadata": {},
   "source": [
    "Area covered: Lat: -34.5 to -33.5, Long: 150 to 150.8"
   ]
  },
  {
   "cell_type": "code",
   "execution_count": 5,
   "metadata": {},
   "outputs": [
    {
     "data": {
      "text/html": [
       "<iframe id=\"igraph\" scrolling=\"no\" style=\"border:none;\" seamless=\"seamless\" src=\"https://plot.ly/~mdchia/1.embed\" height=\"525px\" width=\"100%\"></iframe>"
      ],
      "text/plain": [
       "<plotly.tools.PlotlyDisplay object>"
      ]
     },
     "execution_count": 5,
     "metadata": {},
     "output_type": "execute_result"
    }
   ],
   "source": [
    "render_pretty_map_portion(-34.5, 150)"
   ]
  },
  {
   "cell_type": "code",
   "execution_count": null,
   "metadata": {
    "collapsed": true
   },
   "outputs": [],
   "source": []
  }
 ],
 "metadata": {
  "kernelspec": {
   "display_name": "Python 3",
   "language": "python",
   "name": "python3"
  },
  "language_info": {
   "codemirror_mode": {
    "name": "ipython",
    "version": 3
   },
   "file_extension": ".py",
   "mimetype": "text/x-python",
   "name": "python",
   "nbconvert_exporter": "python",
   "pygments_lexer": "ipython3",
   "version": "3.6.1"
  }
 },
 "nbformat": 4,
 "nbformat_minor": 2
}
